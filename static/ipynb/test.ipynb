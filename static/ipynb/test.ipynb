{
 "metadata": {
  "name": ""
 },
 "nbformat": 3,
 "nbformat_minor": 0,
 "worksheets": [
  {
   "cells": [
    {
     "cell_type": "markdown",
     "metadata": {},
     "source": [
      "This is a test of my ipython-to-jekyll post converter abilities!"
     ]
    },
    {
     "cell_type": "code",
     "collapsed": false,
     "input": [
      "x = 10\n",
      "y = 20\n",
      "print x+y"
     ],
     "language": "python",
     "metadata": {},
     "outputs": [
      {
       "output_type": "stream",
       "stream": "stdout",
       "text": [
        "30\n"
       ]
      }
     ],
     "prompt_number": 1
    },
    {
     "cell_type": "markdown",
     "metadata": {},
     "source": [
      "As you can see above, I know how to sum."
     ]
    },
    {
     "cell_type": "markdown",
     "metadata": {},
     "source": [
      "NICE!"
     ]
    },
    {
     "cell_type": "code",
     "collapsed": false,
     "input": [
      "def apply(f, x):\n",
      "    return f(x)\n",
      "\n",
      "f = lambda x: 2*x\n",
      "print apply(f, 10)"
     ],
     "language": "python",
     "metadata": {},
     "outputs": [
      {
       "output_type": "stream",
       "stream": "stdout",
       "text": [
        "20\n"
       ]
      }
     ],
     "prompt_number": 2
    }
   ],
   "metadata": {}
  }
 ]
}